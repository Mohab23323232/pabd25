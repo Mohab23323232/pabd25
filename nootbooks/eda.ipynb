{
 "cells": [
  {
   "cell_type": "code",
   "execution_count": 1,
   "id": "c63091f88c1cf274",
   "metadata": {
    "ExecuteTime": {
     "end_time": "2025-05-07T16:39:54.788009Z",
     "start_time": "2025-05-07T16:39:54.784508Z"
    }
   },
   "outputs": [],
   "source": [
    "import os\n",
    "import pandas as pd\n",
    "import glob \n",
    "import matplotlib.pyplot as plt\n",
    "import numpy as np"
   ]
  },
  {
   "cell_type": "code",
   "execution_count": 2,
   "id": "initial_id",
   "metadata": {
    "ExecuteTime": {
     "end_time": "2025-05-07T16:39:54.949188Z",
     "start_time": "2025-05-07T16:39:54.945840Z"
    },
    "collapsed": true
   },
   "outputs": [],
   "source": [
    "file_pattern = os.path.join(\"..\", \"data\", \"raw\", \"*.csv\")\n",
    "file_list = glob.glob(file_pattern) "
   ]
  },
  {
   "cell_type": "code",
   "execution_count": 3,
   "id": "48f04b430bddaed3",
   "metadata": {
    "ExecuteTime": {
     "end_time": "2025-05-07T16:39:55.475631Z",
     "start_time": "2025-05-07T16:39:55.472599Z"
    }
   },
   "outputs": [
    {
     "data": {
      "text/plain": [
       "['..\\\\data\\\\raw\\\\1.csv', '..\\\\data\\\\raw\\\\2.csv']"
      ]
     },
     "execution_count": 3,
     "metadata": {},
     "output_type": "execute_result"
    }
   ],
   "source": [
    "file_list"
   ]
  },
  {
   "cell_type": "code",
   "execution_count": 4,
   "id": "a82f87aef100f990",
   "metadata": {
    "ExecuteTime": {
     "end_time": "2025-05-07T16:40:06.438714Z",
     "start_time": "2025-05-07T16:40:06.427543Z"
    }
   },
   "outputs": [],
   "source": [
    "main_dataframe = pd.read_csv(file_list[0])\n",
    "for i in range(1, len(file_list)): \n",
    "    data = pd.read_csv(file_list[i]) \n",
    "    df = pd.DataFrame(data) \n",
    "    main_dataframe = pd.concat([main_dataframe, df], axis=0) "
   ]
  },
  {
   "cell_type": "code",
   "execution_count": 5,
   "id": "f4a136c6a7ad1687",
   "metadata": {
    "ExecuteTime": {
     "end_time": "2025-05-07T16:40:10.993713Z",
     "start_time": "2025-05-07T16:40:10.978059Z"
    }
   },
   "outputs": [
    {
     "data": {
      "text/html": [
       "<div>\n",
       "<style scoped>\n",
       "    .dataframe tbody tr th:only-of-type {\n",
       "        vertical-align: middle;\n",
       "    }\n",
       "\n",
       "    .dataframe tbody tr th {\n",
       "        vertical-align: top;\n",
       "    }\n",
       "\n",
       "    .dataframe thead th {\n",
       "        text-align: right;\n",
       "    }\n",
       "</style>\n",
       "<table border=\"1\" class=\"dataframe\">\n",
       "  <thead>\n",
       "    <tr style=\"text-align: right;\">\n",
       "      <th></th>\n",
       "      <th>author</th>\n",
       "      <th>author_type</th>\n",
       "      <th>url</th>\n",
       "      <th>location</th>\n",
       "      <th>deal_type</th>\n",
       "      <th>accommodation_type</th>\n",
       "      <th>floor</th>\n",
       "      <th>floors_count</th>\n",
       "      <th>rooms_count</th>\n",
       "      <th>total_meters</th>\n",
       "      <th>price_per_month</th>\n",
       "      <th>commissions</th>\n",
       "      <th>price</th>\n",
       "      <th>district</th>\n",
       "      <th>street</th>\n",
       "      <th>house_number</th>\n",
       "      <th>underground</th>\n",
       "      <th>residential_complex</th>\n",
       "    </tr>\n",
       "  </thead>\n",
       "  <tbody>\n",
       "    <tr>\n",
       "      <th>0</th>\n",
       "      <td>ID 12891703</td>\n",
       "      <td>homeowner</td>\n",
       "      <td>https://www.cian.ru/sale/flat/315747133/</td>\n",
       "      <td>Москва</td>\n",
       "      <td>sale</td>\n",
       "      <td>flat</td>\n",
       "      <td>10</td>\n",
       "      <td>18</td>\n",
       "      <td>1</td>\n",
       "      <td>32.0</td>\n",
       "      <td>-1</td>\n",
       "      <td>0</td>\n",
       "      <td>13590000</td>\n",
       "      <td>Останкинский</td>\n",
       "      <td>Березовая аллея</td>\n",
       "      <td>19к1</td>\n",
       "      <td>Ботанический сад</td>\n",
       "      <td>Апарт-комплекс Легендарный квартал</td>\n",
       "    </tr>\n",
       "    <tr>\n",
       "      <th>1</th>\n",
       "      <td>Whitewill</td>\n",
       "      <td>real_estate_agent</td>\n",
       "      <td>https://www.cian.ru/sale/flat/315253252/</td>\n",
       "      <td>Москва</td>\n",
       "      <td>sale</td>\n",
       "      <td>flat</td>\n",
       "      <td>71</td>\n",
       "      <td>79</td>\n",
       "      <td>1</td>\n",
       "      <td>79.0</td>\n",
       "      <td>-1</td>\n",
       "      <td>0</td>\n",
       "      <td>75000000</td>\n",
       "      <td>Пресненский</td>\n",
       "      <td>1-й Красногвардейский проезд</td>\n",
       "      <td>22с2</td>\n",
       "      <td>Москва-Сити</td>\n",
       "      <td>NEVA TOWERS</td>\n",
       "    </tr>\n",
       "    <tr>\n",
       "      <th>2</th>\n",
       "      <td>Mr.Flip</td>\n",
       "      <td>real_estate_agent</td>\n",
       "      <td>https://www.cian.ru/sale/flat/316766731/</td>\n",
       "      <td>Москва</td>\n",
       "      <td>sale</td>\n",
       "      <td>flat</td>\n",
       "      <td>9</td>\n",
       "      <td>16</td>\n",
       "      <td>1</td>\n",
       "      <td>40.8</td>\n",
       "      <td>-1</td>\n",
       "      <td>0</td>\n",
       "      <td>11600000</td>\n",
       "      <td>Бутырский</td>\n",
       "      <td>Яблочкова</td>\n",
       "      <td>25К3</td>\n",
       "      <td>Тимирязевская</td>\n",
       "      <td>NaN</td>\n",
       "    </tr>\n",
       "    <tr>\n",
       "      <th>3</th>\n",
       "      <td>White and Broughton</td>\n",
       "      <td>real_estate_agent</td>\n",
       "      <td>https://www.cian.ru/sale/flat/313640113/</td>\n",
       "      <td>Москва</td>\n",
       "      <td>sale</td>\n",
       "      <td>flat</td>\n",
       "      <td>6</td>\n",
       "      <td>41</td>\n",
       "      <td>1</td>\n",
       "      <td>40.1</td>\n",
       "      <td>-1</td>\n",
       "      <td>0</td>\n",
       "      <td>35500000</td>\n",
       "      <td>Хорошевский</td>\n",
       "      <td>Ленинградский проспект</td>\n",
       "      <td>37/5</td>\n",
       "      <td>Аэропорт</td>\n",
       "      <td>Прайм Парк</td>\n",
       "    </tr>\n",
       "    <tr>\n",
       "      <th>4</th>\n",
       "      <td>Семен Гордый</td>\n",
       "      <td>realtor</td>\n",
       "      <td>https://www.cian.ru/sale/flat/286050252/</td>\n",
       "      <td>Москва</td>\n",
       "      <td>sale</td>\n",
       "      <td>flat</td>\n",
       "      <td>5</td>\n",
       "      <td>9</td>\n",
       "      <td>1</td>\n",
       "      <td>42.5</td>\n",
       "      <td>-1</td>\n",
       "      <td>0</td>\n",
       "      <td>7150000</td>\n",
       "      <td>NaN</td>\n",
       "      <td>Семена Гордого</td>\n",
       "      <td>12</td>\n",
       "      <td>Крёкшино</td>\n",
       "      <td>Ново-Никольское</td>\n",
       "    </tr>\n",
       "    <tr>\n",
       "      <th>...</th>\n",
       "      <td>...</td>\n",
       "      <td>...</td>\n",
       "      <td>...</td>\n",
       "      <td>...</td>\n",
       "      <td>...</td>\n",
       "      <td>...</td>\n",
       "      <td>...</td>\n",
       "      <td>...</td>\n",
       "      <td>...</td>\n",
       "      <td>...</td>\n",
       "      <td>...</td>\n",
       "      <td>...</td>\n",
       "      <td>...</td>\n",
       "      <td>...</td>\n",
       "      <td>...</td>\n",
       "      <td>...</td>\n",
       "      <td>...</td>\n",
       "      <td>...</td>\n",
       "    </tr>\n",
       "    <tr>\n",
       "      <th>50</th>\n",
       "      <td>ИП Боброва Е. И.</td>\n",
       "      <td>real_estate_agent</td>\n",
       "      <td>https://www.cian.ru/sale/flat/315432066/</td>\n",
       "      <td>Москва</td>\n",
       "      <td>sale</td>\n",
       "      <td>flat</td>\n",
       "      <td>6</td>\n",
       "      <td>14</td>\n",
       "      <td>2</td>\n",
       "      <td>56.0</td>\n",
       "      <td>-1</td>\n",
       "      <td>0</td>\n",
       "      <td>22200000</td>\n",
       "      <td>Академический</td>\n",
       "      <td>Губкина</td>\n",
       "      <td>9</td>\n",
       "      <td>Академическая</td>\n",
       "      <td>NaN</td>\n",
       "    </tr>\n",
       "    <tr>\n",
       "      <th>51</th>\n",
       "      <td>Whitewill</td>\n",
       "      <td>real_estate_agent</td>\n",
       "      <td>https://www.cian.ru/sale/flat/317041390/</td>\n",
       "      <td>Москва</td>\n",
       "      <td>sale</td>\n",
       "      <td>flat</td>\n",
       "      <td>11</td>\n",
       "      <td>26</td>\n",
       "      <td>2</td>\n",
       "      <td>75.0</td>\n",
       "      <td>-1</td>\n",
       "      <td>0</td>\n",
       "      <td>35500000</td>\n",
       "      <td>Раменки</td>\n",
       "      <td>Василия Ланового</td>\n",
       "      <td>3</td>\n",
       "      <td>Аминьевская</td>\n",
       "      <td>Событие</td>\n",
       "    </tr>\n",
       "    <tr>\n",
       "      <th>52</th>\n",
       "      <td>OPN PARTNER</td>\n",
       "      <td>real_estate_agent</td>\n",
       "      <td>https://www.cian.ru/sale/flat/315317449/</td>\n",
       "      <td>Москва</td>\n",
       "      <td>sale</td>\n",
       "      <td>flat</td>\n",
       "      <td>3</td>\n",
       "      <td>16</td>\n",
       "      <td>2</td>\n",
       "      <td>37.0</td>\n",
       "      <td>-1</td>\n",
       "      <td>0</td>\n",
       "      <td>13490000</td>\n",
       "      <td>NaN</td>\n",
       "      <td>Анны Ахматовой</td>\n",
       "      <td>11к3</td>\n",
       "      <td>Рассказовка</td>\n",
       "      <td>Городские истории (Рассказовка)</td>\n",
       "    </tr>\n",
       "    <tr>\n",
       "      <th>53</th>\n",
       "      <td>Навигатор</td>\n",
       "      <td>real_estate_agent</td>\n",
       "      <td>https://www.cian.ru/sale/flat/312719449/</td>\n",
       "      <td>Москва</td>\n",
       "      <td>sale</td>\n",
       "      <td>flat</td>\n",
       "      <td>29</td>\n",
       "      <td>30</td>\n",
       "      <td>2</td>\n",
       "      <td>60.0</td>\n",
       "      <td>-1</td>\n",
       "      <td>0</td>\n",
       "      <td>31500000</td>\n",
       "      <td>Южнопортовый</td>\n",
       "      <td>Волгоградский проспект</td>\n",
       "      <td>32/3к2</td>\n",
       "      <td>Угрешская</td>\n",
       "      <td>Метрополия</td>\n",
       "    </tr>\n",
       "    <tr>\n",
       "      <th>54</th>\n",
       "      <td>PEOPLE</td>\n",
       "      <td>real_estate_agent</td>\n",
       "      <td>https://www.cian.ru/sale/flat/316906010/</td>\n",
       "      <td>Москва</td>\n",
       "      <td>sale</td>\n",
       "      <td>flat</td>\n",
       "      <td>21</td>\n",
       "      <td>23</td>\n",
       "      <td>2</td>\n",
       "      <td>67.9</td>\n",
       "      <td>-1</td>\n",
       "      <td>0</td>\n",
       "      <td>36600000</td>\n",
       "      <td>Хорошево-Мневники</td>\n",
       "      <td>Нижние Мневники</td>\n",
       "      <td>16к3</td>\n",
       "      <td>Терехово</td>\n",
       "      <td>Остров</td>\n",
       "    </tr>\n",
       "  </tbody>\n",
       "</table>\n",
       "<p>110 rows × 18 columns</p>\n",
       "</div>"
      ],
      "text/plain": [
       "                 author        author_type  \\\n",
       "0           ID 12891703          homeowner   \n",
       "1             Whitewill  real_estate_agent   \n",
       "2               Mr.Flip  real_estate_agent   \n",
       "3   White and Broughton  real_estate_agent   \n",
       "4          Семен Гордый            realtor   \n",
       "..                  ...                ...   \n",
       "50     ИП Боброва Е. И.  real_estate_agent   \n",
       "51            Whitewill  real_estate_agent   \n",
       "52          OPN PARTNER  real_estate_agent   \n",
       "53            Навигатор  real_estate_agent   \n",
       "54               PEOPLE  real_estate_agent   \n",
       "\n",
       "                                         url location deal_type  \\\n",
       "0   https://www.cian.ru/sale/flat/315747133/   Москва      sale   \n",
       "1   https://www.cian.ru/sale/flat/315253252/   Москва      sale   \n",
       "2   https://www.cian.ru/sale/flat/316766731/   Москва      sale   \n",
       "3   https://www.cian.ru/sale/flat/313640113/   Москва      sale   \n",
       "4   https://www.cian.ru/sale/flat/286050252/   Москва      sale   \n",
       "..                                       ...      ...       ...   \n",
       "50  https://www.cian.ru/sale/flat/315432066/   Москва      sale   \n",
       "51  https://www.cian.ru/sale/flat/317041390/   Москва      sale   \n",
       "52  https://www.cian.ru/sale/flat/315317449/   Москва      sale   \n",
       "53  https://www.cian.ru/sale/flat/312719449/   Москва      sale   \n",
       "54  https://www.cian.ru/sale/flat/316906010/   Москва      sale   \n",
       "\n",
       "   accommodation_type  floor  floors_count  rooms_count  total_meters  \\\n",
       "0                flat     10            18            1          32.0   \n",
       "1                flat     71            79            1          79.0   \n",
       "2                flat      9            16            1          40.8   \n",
       "3                flat      6            41            1          40.1   \n",
       "4                flat      5             9            1          42.5   \n",
       "..                ...    ...           ...          ...           ...   \n",
       "50               flat      6            14            2          56.0   \n",
       "51               flat     11            26            2          75.0   \n",
       "52               flat      3            16            2          37.0   \n",
       "53               flat     29            30            2          60.0   \n",
       "54               flat     21            23            2          67.9   \n",
       "\n",
       "    price_per_month  commissions     price           district  \\\n",
       "0                -1            0  13590000       Останкинский   \n",
       "1                -1            0  75000000        Пресненский   \n",
       "2                -1            0  11600000          Бутырский   \n",
       "3                -1            0  35500000        Хорошевский   \n",
       "4                -1            0   7150000                NaN   \n",
       "..              ...          ...       ...                ...   \n",
       "50               -1            0  22200000      Академический   \n",
       "51               -1            0  35500000            Раменки   \n",
       "52               -1            0  13490000                NaN   \n",
       "53               -1            0  31500000       Южнопортовый   \n",
       "54               -1            0  36600000  Хорошево-Мневники   \n",
       "\n",
       "                          street house_number       underground  \\\n",
       "0                Березовая аллея         19к1  Ботанический сад   \n",
       "1   1-й Красногвардейский проезд         22с2       Москва-Сити   \n",
       "2                      Яблочкова         25К3     Тимирязевская   \n",
       "3         Ленинградский проспект         37/5          Аэропорт   \n",
       "4                 Семена Гордого           12          Крёкшино   \n",
       "..                           ...          ...               ...   \n",
       "50                       Губкина            9     Академическая   \n",
       "51              Василия Ланового            3       Аминьевская   \n",
       "52                Анны Ахматовой         11к3       Рассказовка   \n",
       "53        Волгоградский проспект       32/3к2         Угрешская   \n",
       "54               Нижние Мневники         16к3         Терехово    \n",
       "\n",
       "                   residential_complex  \n",
       "0   Апарт-комплекс Легендарный квартал  \n",
       "1                          NEVA TOWERS  \n",
       "2                                  NaN  \n",
       "3                           Прайм Парк  \n",
       "4                      Ново-Никольское  \n",
       "..                                 ...  \n",
       "50                                 NaN  \n",
       "51                             Событие  \n",
       "52     Городские истории (Рассказовка)  \n",
       "53                          Метрополия  \n",
       "54                              Остров  \n",
       "\n",
       "[110 rows x 18 columns]"
      ]
     },
     "execution_count": 5,
     "metadata": {},
     "output_type": "execute_result"
    }
   ],
   "source": [
    "main_dataframe"
   ]
  },
  {
   "cell_type": "code",
   "execution_count": 6,
   "id": "fe0ec32fc916d5c7",
   "metadata": {
    "ExecuteTime": {
     "end_time": "2025-05-07T16:40:21.089080Z",
     "start_time": "2025-05-07T16:40:21.083788Z"
    }
   },
   "outputs": [],
   "source": [
    "main_dataframe['url_id'] = main_dataframe['url'].map(lambda x: x.split('/')[-2])\n",
    "new_dataframe = main_dataframe[['url_id', 'total_meters', 'price']].set_index('url_id')"
   ]
  },
  {
   "cell_type": "code",
   "execution_count": 7,
   "id": "8d8d20211ada5b22",
   "metadata": {
    "ExecuteTime": {
     "end_time": "2025-05-07T16:40:37.255484Z",
     "start_time": "2025-05-07T16:40:37.164130Z"
    }
   },
   "outputs": [
    {
     "data": {
      "text/plain": [
       "<Axes: >"
      ]
     },
     "execution_count": 7,
     "metadata": {},
     "output_type": "execute_result"
    },
    {
     "data": {
      "image/png": "[encoded data removed]",
      "text/plain": [
       "<Figure size 640x480 with 1 Axes>"
      ]
     },
     "metadata": {},
     "output_type": "display_data"
    }
   ],
   "source": [
    "new_dataframe['price'].hist()"
   ]
  },
  {
   "cell_type": "code",
   "execution_count": 8,
   "id": "4d7b4dcff68e6528",
   "metadata": {
    "ExecuteTime": {
     "end_time": "2025-05-07T16:40:53.923802Z",
     "start_time": "2025-05-07T16:40:53.919695Z"
    }
   },
   "outputs": [],
   "source": [
    "new_df = new_dataframe[new_dataframe['price'] < 100_000_000]\n",
    "new_df = new_df[new_df['total_meters'] < 100]"
   ]
  },
  {
   "cell_type": "code",
   "execution_count": 9,
   "id": "54790d9fd385262d",
   "metadata": {
    "ExecuteTime": {
     "end_time": "2025-05-07T16:41:05.117359Z",
     "start_time": "2025-05-07T16:41:05.053677Z"
    }
   },
   "outputs": [
    {
     "data": {
      "text/plain": [
       "[<matplotlib.lines.Line2D at 0x21f074d0410>]"
      ]
     },
     "execution_count": 9,
     "metadata": {},
     "output_type": "execute_result"
    },
    {
     "data": {
      "image/png": "[encoded data removed]",
      "text/plain": [
       "<Figure size 640x480 with 1 Axes>"
      ]
     },
     "metadata": {},
     "output_type": "display_data"
    }
   ],
   "source": [
    "x = new_df['total_meters']\n",
    "y = new_df['price']\n",
    "\n",
    "plt.plot(x, y, 'o')\n",
    "\n",
    "m, b = np.polyfit(x, y, 1)\n",
    "\n",
    "plt.plot(x, m*x+b)"
   ]
  },
  {
   "cell_type": "code",
   "execution_count": 10,
   "id": "97746dbd5ef0264a",
   "metadata": {
    "ExecuteTime": {
     "end_time": "2025-05-07T16:43:45.457628Z",
     "start_time": "2025-05-07T16:43:45.454202Z"
    }
   },
   "outputs": [],
   "source": [
    "train_path_dir = os.path.join(\"..\", \"data\", \"processed\")\n",
    "if not os.path.exists(train_path_dir):\n",
    "    os.mkdir(train_path_dir)\n",
    "\n",
    "train_file_path = os.path.join(train_path_dir, \"train.csv\")"
   ]
  },
  {
   "cell_type": "code",
   "execution_count": 11,
   "id": "16f846b5219c6547",
   "metadata": {
    "ExecuteTime": {
     "end_time": "2025-05-07T16:43:51.682571Z",
     "start_time": "2025-05-07T16:43:51.676798Z"
    }
   },
   "outputs": [],
   "source": [
    "new_df.to_csv(train_file_path)"
   ]
  }
 ],
 "metadata": {
  "kernelspec": {
   "display_name": "Python (venv)",
   "language": "python",
   "name": "venv"
  },
  "language_info": {
   "codemirror_mode": {
    "name": "ipython",
    "version": 3
   },
   "file_extension": ".py",
   "mimetype": "text/x-python",
   "name": "python",
   "nbconvert_exporter": "python",
   "pygments_lexer": "ipython3",
   "version": "3.13.3"
  }
 },
 "nbformat": 4,
 "nbformat_minor": 5
}
